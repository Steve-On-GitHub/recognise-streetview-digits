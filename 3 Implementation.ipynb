{
 "cells": [
  {
   "cell_type": "markdown",
   "metadata": {
    "colab_type": "text",
    "id": "4embtkV0pNxM"
   },
   "source": [
    "Capstone Project: Build a live camera app\n",
    "=============\n",
    "\n",
    "\n",
    "3. Implementation\n",
    "------------\n",
    "\n",
    "- 3.1 Import modules and data\n",
    "- 3.2 Create helper functions\n",
    "- 3.3 Set up the model\n",
    "- 3.4 Run the model with different hyperparameters\n",
    "- 3.5 Compare performance"
   ]
  },
  {
   "cell_type": "markdown",
   "metadata": {},
   "source": [
    "**3.1 Import modules and data**\n",
    "\n",
    "Get the modules and load the data from the pickle."
   ]
  },
  {
   "cell_type": "code",
   "execution_count": 1,
   "metadata": {
    "cellView": "both",
    "colab": {
     "autoexec": {
      "startup": false,
      "wait_interval": 0
     }
    },
    "colab_type": "code",
    "collapsed": true,
    "id": "tm2CQN_Cpwj0"
   },
   "outputs": [],
   "source": [
    "from __future__ import print_function\n",
    "from __future__ import division\n",
    "\n",
    "import matplotlib.pyplot as plt\n",
    "import matplotlib.patches as patches\n",
    "from matplotlib.font_manager import FontProperties\n",
    "import seaborn as sns\n",
    "%matplotlib inline\n",
    "\n",
    "import numpy as np\n",
    "import pandas as pd\n",
    "import tensorflow as tf\n",
    "import random\n",
    "\n",
    "import os\n",
    "from six.moves import cPickle as pickle\n",
    "\n",
    "from timeit import default_timer as timer\n",
    "from time import gmtime, strftime\n",
    "import time"
   ]
  },
  {
   "cell_type": "code",
   "execution_count": 2,
   "metadata": {
    "cellView": "both",
    "colab": {
     "autoexec": {
      "startup": false,
      "wait_interval": 0
     },
     "output_extras": [
      {
       "item_id": 1
      }
     ]
    },
    "colab_type": "code",
    "collapsed": false,
    "executionInfo": {
     "elapsed": 11948,
     "status": "ok",
     "timestamp": 1446658914837,
     "user": {
      "color": "",
      "displayName": "",
      "isAnonymous": false,
      "isMe": true,
      "permissionId": "",
      "photoUrl": "",
      "sessionId": "0",
      "userId": ""
     },
     "user_tz": 480
    },
    "id": "y3-cj1bpmuxc",
    "outputId": "016b1a51-0290-4b08-efdb-8c95ffc3cd01"
   },
   "outputs": [
    {
     "name": "stdout",
     "output_type": "stream",
     "text": [
      "Data loaded from train_data_preprocessed.pickle.\n",
      "Data loaded from test_data_preprocessed.pickle.\n",
      "Train data (33402, 64, 64) float32\n",
      "Train labels (33402, 7) float64\n",
      "Test data (13068, 64, 64) float32\n",
      "Test labels (13068, 7) float64\n"
     ]
    }
   ],
   "source": [
    "def load_from_pickle(pickle_file):\n",
    "  with open(pickle_file, 'rb') as f:\n",
    "    data = pickle.load(f)\n",
    "  print('Data loaded from %s.' % pickle_file)\n",
    "  return data\n",
    "\n",
    "train_dataset, train_labels = load_from_pickle('train_data_preprocessed.pickle')\n",
    "test_dataset,  test_labels  = load_from_pickle('test_data_preprocessed.pickle')\n",
    "\n",
    "print('Train data', train_dataset.shape, train_dataset.dtype)\n",
    "print('Train labels', train_labels.shape, train_labels.dtype)\n",
    "print('Test data',  test_dataset.shape, test_dataset.dtype)\n",
    "print('Test labels', test_labels.shape, test_labels.dtype)"
   ]
  },
  {
   "cell_type": "markdown",
   "metadata": {
    "colab_type": "text",
    "id": "L7aHrm6nGDMB"
   },
   "source": [
    "Reformat into a TensorFlow-friendly shape:\n",
    "- convolutions need the image data formatted as a cube (width by height by #channels)\n",
    "- labels as float 1-hot encodings."
   ]
  },
  {
   "cell_type": "code",
   "execution_count": 3,
   "metadata": {
    "cellView": "both",
    "colab": {
     "autoexec": {
      "startup": false,
      "wait_interval": 0
     },
     "output_extras": [
      {
       "item_id": 1
      }
     ]
    },
    "colab_type": "code",
    "collapsed": false,
    "executionInfo": {
     "elapsed": 11952,
     "status": "ok",
     "timestamp": 1446658914857,
     "user": {
      "color": "",
      "displayName": "",
      "isAnonymous": false,
      "isMe": true,
      "permissionId": "",
      "photoUrl": "",
      "sessionId": "0",
      "userId": ""
     },
     "user_tz": 480
    },
    "id": "IRSyYiIIGIzS",
    "outputId": "650a208c-8359-4852-f4f5-8bf10e80ef6c"
   },
   "outputs": [
    {
     "name": "stdout",
     "output_type": "stream",
     "text": [
      "Train data:\n",
      "Data (33402, 64, 64, 1) float32\n",
      "Labels (33402, 5) int64\n",
      "[[    0  9243  6321  4348  3511  2829  2153  1877  1585  1535]\n",
      " [ 5137  3332  3131  2970  2807  2870  2489  2640  2379  5647]\n",
      " [23267  1128   983  1057   979  1047   955   961   940  2085]\n",
      " [31958   156   150   120   161   134   130   115   140   338]\n",
      " [33392     2     0     2     0     2     0     2     0     2]]\n",
      "Test data:\n",
      "Data (13068, 64, 64, 1) float32\n",
      "Labels (13068, 5) int64\n",
      "[[    0  3694  2657  1625  1236  1052   857   747   625   575]\n",
      " [ 2483  1144  1233  1027  1080  1078   921  1020   835  2247]\n",
      " [10839   244   243   217   198   242   182   239   192   472]\n",
      " [12920    17    16    13     9    12    17    12     8    44]\n",
      " [13066     0     0     0     0     0     0     1     0     1]]\n"
     ]
    }
   ],
   "source": [
    "# Define global constants\n",
    "IMAGE_SIZE      = 64\n",
    "NUM_LABELS      = 11   # the logical size of the one-hots \n",
    "NUM_CLASSIFIERS =  5   # the number of softmax classifiers we'll create\n",
    "ONE_HOT_SIZE    = 10   # in practice we'll just create one big array of one-hots this size\n",
    "NUM_CHANNELS    =  1   # grayscale\n",
    "\n",
    "def reformat(dataset, labels):\n",
    "  # reshape dataset to have the pixel value in an array size 1, for the convolutions \n",
    "  dataset = dataset.reshape((-1, IMAGE_SIZE, IMAGE_SIZE, NUM_CHANNELS)).astype(np.float32)\n",
    "  print('Data', dataset.shape, dataset.dtype)\n",
    "  # reshape the labels to ignore the length, just include the digits, keeping the value 0 as \"no digit\"  \n",
    "  labels  = labels[:, 1:NUM_CLASSIFIERS+1].astype(np.int64)\n",
    "  print('Labels', labels.shape, labels.dtype)\n",
    "  print(np.array([np.histogram(label_i, bins=range(11))[0] for label_i in np.transpose(labels)], dtype='int'))\n",
    "  return dataset, labels\n",
    "\n",
    "print('Train data:')\n",
    "train_dataset, train_labels = reformat(train_dataset, train_labels)\n",
    "print('Test data:')\n",
    "test_dataset, test_labels = reformat(test_dataset, test_labels)"
   ]
  },
  {
   "cell_type": "markdown",
   "metadata": {
    "colab_type": "text",
    "id": "5rhgjmROXu2O"
   },
   "source": [
    "**3.2 Create helper functions**\n",
    "\n",
    "First define the low level functions to create components of layers."
   ]
  },
  {
   "cell_type": "code",
   "execution_count": null,
   "metadata": {
    "collapsed": false
   },
   "outputs": [],
   "source": [
    "def create_placeholders():\n",
    "  input_data = tf.placeholder(tf.float32, shape=(None, IMAGE_SIZE, IMAGE_SIZE, NUM_CHANNELS), name='Input/Data')\n",
    "  labels     = tf.placeholder(tf.int64, shape=(None, NUM_CLASSIFIERS), name='Input/Labels')\n",
    "  keep_prob  = tf.placeholder(tf.float32, name='Dropout_keep_prob')\n",
    "  tf.scalar_summary('Parameters/Dropout (keep)',keep_prob)\n",
    "  return input_data, labels, keep_prob\n",
    "\n",
    "def add_variable_summaries(variable, name): # To analyse all variables in tensorboard\n",
    "  if TENSORBOARD_SHOW_ALL:\n",
    "    with tf.name_scope('Summaries'):\n",
    "      tf.scalar_summary(name+'/min', tf.reduce_min(variable))\n",
    "      tf.scalar_summary(name+'/max', tf.reduce_max(variable))\n",
    "      mean = tf.reduce_mean(variable) # put it in a variable as we use it twice\n",
    "      with tf.name_scope('Std_dev'):\n",
    "        std_dev = tf.sqrt(tf.reduce_mean(tf.square(variable - mean)))\n",
    "      tf.scalar_summary(name+'/mean', mean)\n",
    "      tf.scalar_summary(name+'/std_dev', std_dev)\n",
    "      tf.histogram_summary(name, variable)\n",
    "\n",
    "def create_weights(layer_name, dimensions):\n",
    "  with tf.name_scope('Weights'):\n",
    "    input_dims = np.prod(dimensions[:-1])   # the last element is the output dimension, all others inputs\n",
    "    init_stddev = np.sqrt(2.0 / input_dims) # this ensures the variance after ReLU is 1\n",
    "    weights = tf.Variable(tf.truncated_normal(dimensions,stddev = init_stddev))\n",
    "    add_variable_summaries(weights, layer_name+'/weights')\n",
    "  return weights\n",
    "\n",
    "def create_biases(layer_name, output_dim):\n",
    "  with tf.name_scope('Biases'):\n",
    "    biases  = tf.Variable(tf.zeros([output_dim])) # initialise to zero\n",
    "    add_variable_summaries(biases, layer_name+'/biases')\n",
    "  return biases\n",
    "\n",
    "def create_activations(layer_name, pre_activations, activation_func):\n",
    "  with tf.name_scope('Activations'):\n",
    "    activations = activation_func(pre_activations)\n",
    "    tf.histogram_summary(layer_name+'/2_activations', activations)\n",
    "  return activations\n",
    "\n",
    "def add_l2_losses(layer_name, l2_loss_list, weights, biases):\n",
    "  with tf.name_scope('L2_losses'):\n",
    "    l2_losses = tf.nn.l2_loss(weights) + tf.nn.l2_loss(biases)\n",
    "    tf.scalar_summary(layer_name+'/L2_losses',l2_losses)\n",
    "    l2_loss_list.append(l2_losses)\n",
    "    return l2_loss_list"
   ]
  },
  {
   "cell_type": "markdown",
   "metadata": {},
   "source": [
    "Now define the functions to build the layers."
   ]
  },
  {
   "cell_type": "code",
   "execution_count": null,
   "metadata": {
    "collapsed": false
   },
   "outputs": [],
   "source": [
    "def create_conv_layer(layer_name, input_tensor, l2_loss_in, patch_size, out_channels, stride, \n",
    "                      max_pool_kernel, max_pool_stride, activation_func):\n",
    "  in_channels = input_tensor.get_shape().as_list()[3]\n",
    "  with tf.name_scope(layer_name):\n",
    "    weights = create_weights(layer_name, [patch_size, patch_size, in_channels, out_channels])\n",
    "    biases  = create_biases(layer_name, out_channels)\n",
    "    with tf.name_scope('Convolutions'):\n",
    "      strides = [1, stride, stride, 1]\n",
    "      convolutions = tf.nn.conv2d(input_tensor, weights, strides, padding=\"SAME\")\n",
    "      tf.histogram_summary(layer_name+'/1_convolutions', convolutions)\n",
    "    with tf.name_scope('Max_pooling'):\n",
    "      if max_pool_stride > 1:\n",
    "        ksize   = [1, max_pool_kernel, max_pool_kernel, 1]\n",
    "        strides = [1, max_pool_stride, max_pool_stride, 1]\n",
    "        convolutions = tf.nn.max_pool(convolutions, ksize, strides, padding=\"SAME\")\n",
    "    activations = create_activations(layer_name, convolutions + biases, activation_func)\n",
    "    l2_loss_out = add_l2_losses(layer_name, l2_loss_in, weights, biases)\n",
    "  return activations, l2_loss_out\n",
    "\n",
    "def create_all_conv_layers(next_input, l2_loss, conv_layers, keep_prob):\n",
    "  for i, conv_layer in enumerate(conv_layers):\n",
    "    patch_size, depth, stride, mp_kernel, mp_stride = conv_layer\n",
    "    next_input, l2_loss = create_conv_layer('Convolution'+str(i+1), next_input, l2_loss, \n",
    "                                            patch_size, depth, stride, mp_kernel, mp_stride, tf.nn.relu) \n",
    "    next_input = tf.nn.dropout(next_input, keep_prob, name='Dropout')\n",
    "  return next_input, l2_loss\n",
    "\n",
    "def flatten_conv_to_fc(next_input):\n",
    "  with tf.name_scope('Flatten'):\n",
    "    shape      = next_input.get_shape().as_list()\n",
    "    next_input = tf.reshape(next_input, [-1,shape[1]*shape[2]*shape[3]])\n",
    "  return next_input\n",
    "\n",
    "def create_fully_connected_layer(layer_name, input_tensor, l2_loss, input_dim, output_dim, activation_func):\n",
    "  with tf.name_scope(layer_name):\n",
    "    weights = create_weights(layer_name, [input_dim, output_dim])\n",
    "    biases  = create_biases(layer_name, output_dim)\n",
    "    with tf.name_scope('XW_plus_b'):\n",
    "      pre_activations = tf.matmul(input_tensor, weights) + biases\n",
    "      tf.histogram_summary(layer_name+'/1_pre_activations', pre_activations)\n",
    "    activations = create_activations(layer_name, pre_activations, activation_func)\n",
    "    l2_loss = add_l2_losses(layer_name, l2_loss, weights, biases)\n",
    "  return activations, l2_loss\n",
    "\n",
    "def create_all_fc_layers(next_input, l2_loss, fc_layers, keep_prob):\n",
    "  fc_layer_count = len(fc_layers)\n",
    "  input_dims     = next_input.get_shape().as_list()[1]\n",
    "  fc_node_counts = [input_dims] + fc_layers\n",
    "  for i in range(fc_layer_count):\n",
    "    next_input, l2_loss = create_fully_connected_layer('Fully_Connected'+str(i+1), next_input, l2_loss,\n",
    "                                                       fc_node_counts[i],fc_node_counts[i+1],\n",
    "                                                       tf.nn.relu if i+1 < fc_layer_count else tf.identity) \n",
    "    next_input = tf.nn.dropout(next_input, keep_prob, name='Dropout') if i+1 < fc_layer_count else next_input\n",
    "  return next_input, l2_loss \n",
    "\n",
    "def create_logits_for_all_outputs(features, l2_loss):\n",
    "  input_dim = features.get_shape().as_list()[1]\n",
    "  logits_list = []\n",
    "  for i in range(NUM_CLASSIFIERS):\n",
    "    layer_name = 'Digit_'+str(i+1)\n",
    "    logits, l2_loss = create_fully_connected_layer(layer_name, features, l2_loss, input_dim, NUM_LABELS, tf.identity)\n",
    "    logits_list.append(logits)\n",
    "  return logits_list, l2_loss"
   ]
  },
  {
   "cell_type": "markdown",
   "metadata": {},
   "source": [
    "And finally, define the functions to calculate loss and accuracy, create the training step, and any helper functions to run the model."
   ]
  },
  {
   "cell_type": "code",
   "execution_count": null,
   "metadata": {
    "collapsed": true
   },
   "outputs": [],
   "source": [
    "def calculate_loss(logits_list, labels, l2_loss_list, weight_decay, batch_size):\n",
    "  with tf.name_scope('Loss'):\n",
    "    with tf.name_scope('Cross_entropy'):\n",
    "      cross_entropy_total = 0.0\n",
    "      cross_entropy_list = []\n",
    "      labels_list = tf.unpack(labels, axis=1) # unpack to have one loss object per classifier in the graph\n",
    "      for i in range(NUM_CLASSIFIERS):\n",
    "        name            = 'Digit_'+str(i+1)\n",
    "        cross_entropies = tf.nn.sparse_softmax_cross_entropy_with_logits(logits_list[i], labels_list[i])\n",
    "        cross_entropy_list.append(cross_entropies)\n",
    "        cross_entropy   = tf.reduce_mean(cross_entropies, name=name)\n",
    "        tf.scalar_summary('Loss/Cross_entropy/'+name,cross_entropy)\n",
    "        cross_entropy_total += cross_entropy\n",
    "      tf.scalar_summary('Loss/Cross_entropy/Total',cross_entropy)\n",
    "    with tf.name_scope('L2_loss'):\n",
    "      l2_loss = tf.add_n(l2_loss_list)\n",
    "      l2_loss_component = weight_decay * batch_size / TRAIN_SIZE * l2_loss\n",
    "      tf.scalar_summary('Parameters/Weight_decay',weight_decay)\n",
    "      tf.scalar_summary('Loss/L2_loss_component',l2_loss_component)\n",
    "    loss = cross_entropy_total + l2_loss_component\n",
    "    tf.scalar_summary('Loss/Total',loss)\n",
    "  return loss, cross_entropy_list\n",
    "\n",
    "def calculate_accuracy(logits_list, labels):\n",
    "  with tf.name_scope('Accuracy'):\n",
    "    with tf.name_scope('Predictions'):\n",
    "      logits_array = tf.pack(logits_list, axis=1) # put the logits into a big array: [samples, classifiers, labels]\n",
    "      predictions  = tf.argmax(logits_array, 2)   # find the label with the highest logit (softmax is monotonic)\n",
    "    with tf.name_scope('Accuracy'):\n",
    "      correct_predictions = tf.reduce_all(tf.equal(predictions, labels),1) # a sample is correct if all classifiers are correct    \n",
    "      accuracy            = 100.0 * tf.reduce_mean(tf.cast(correct_predictions, tf.float32))\n",
    "    tf.scalar_summary('Accuracy',accuracy)\n",
    "  return accuracy\n",
    "\n",
    "def create_training_step(loss, initial_rate, learn_decay_steps, learn_decay_rate, momentum, global_step):\n",
    "  with tf.name_scope('Train'):\n",
    "    with tf.name_scope('Learning_rate'):\n",
    "      learning_rate = tf.train.exponential_decay(initial_rate, global_step, learn_decay_steps, learn_decay_rate)\n",
    "      tf.scalar_summary('Parameters/Learning rate',learning_rate)\n",
    "    if momentum is None: \n",
    "      train_step = tf.train.GradientDescentOptimizer(learning_rate).minimize(loss, global_step=global_step)\n",
    "    elif momentum  == \"Adam\": \n",
    "      train_step = tf.train.AdamOptimizer().minimize(loss, global_step=global_step)\n",
    "    else: \n",
    "      train_step = tf.train.MomentumOptimizer(learning_rate,momentum).minimize(loss, global_step=global_step)\n",
    "  return train_step\n",
    "\n",
    "def get_next_batch(step, batch_size, train_dataset, train_labels):\n",
    "  offset = (step * batch_size) % (TRAIN_SIZE - batch_size) \n",
    "  batch_data   = train_dataset[offset:(offset + batch_size), :, :, :]\n",
    "  batch_labels =  train_labels[offset:(offset + batch_size), :]\n",
    "  return batch_data, batch_labels"
   ]
  },
  {
   "cell_type": "markdown",
   "metadata": {},
   "source": [
    "**3.3 Set up the model **\n",
    "\n",
    "Using the helper functions, create the graph according to the specified design and regularisation hyperparameters. Then create the loop to run it according to the specified batch size, iterations and logging parameters."
   ]
  },
  {
   "cell_type": "code",
   "execution_count": null,
   "metadata": {
    "collapsed": false
   },
   "outputs": [],
   "source": [
    "def define_and_run_model(data, params, log_params):\n",
    "  # unpack the arguments\n",
    "  train_dataset, train_labels, test_dataset, test_labels      = data\n",
    "  num_steps, batch_size, conv_layers, fc_layers,\\\n",
    "    initial_rate, learn_decay_rate, learn_decay_steps, \\\n",
    "    weight_decay, momentum, dropout, nickname                 = params\n",
    "  log_dir, log_printouts, tb_printouts, tb_all, progress_dots = log_params\n",
    "\n",
    "  # set up constants\n",
    "  global TRAIN_SIZE, IMAGE_SIZE, NUM_CHANNELS, NUM_LABELS, NUM_CLASSIFIERS, TENSORBOARD_SHOW_ALL\n",
    "  TENSORBOARD_SHOW_ALL = tb_all\n",
    "  TRAIN_SIZE = train_dataset.shape[0]\n",
    "  graph = tf.Graph()\n",
    "\n",
    "  # define the graph\n",
    "  with graph.as_default():\n",
    "   \n",
    "    # create placeholders and variables\n",
    "    input_data, labels, keep_prob = create_placeholders()\n",
    "    global_step = tf.Variable(0, trainable=False, name='Global_step')\n",
    "\n",
    "    # build the network\n",
    "    next_input,  l2_loss = input_data, []\n",
    "    next_input,  l2_loss = create_all_conv_layers(next_input, l2_loss, conv_layers, keep_prob)\n",
    "    next_input           = flatten_conv_to_fc(next_input)\n",
    "    features,    l2_loss = create_all_fc_layers(next_input, l2_loss, fc_layers, keep_prob)\n",
    "    logits_list, l2_loss = create_logits_for_all_outputs(features, l2_loss)\n",
    "    \n",
    "    # calculate loss and accuracy; set up the training step\n",
    "    loss, loss_list = calculate_loss(logits_list, labels, l2_loss, weight_decay, batch_size)\n",
    "    accuracy        = calculate_accuracy(logits_list, labels)\n",
    "    train_step      = create_training_step(loss, initial_rate, learn_decay_steps, learn_decay_rate, momentum, global_step)\n",
    "\n",
    "    # bring together the summaries, create writers for them\n",
    "    merged = tf.merge_all_summaries()\n",
    "\n",
    "  # now run the graph\n",
    "  with tf.Session(graph=graph) as sess:\n",
    "\n",
    "    # initialise the summary writers\n",
    "    train_writer = tf.train.SummaryWriter(log_dir+'/train', graph)\n",
    "    test_writer  = tf.train.SummaryWriter(log_dir+'/test')\n",
    "\n",
    "    # initialise log and timer for the homemade plotter\n",
    "    learning_log = np.array([]).reshape(0,5) # the array we'll use to plot the learning curve\n",
    "    start = timer()\n",
    "\n",
    "    # the test feed dictionary doesn't change so define it now\n",
    "    test_feed_dict = {input_data : test_dataset, labels : test_labels, keep_prob : 1.0}\n",
    "  \n",
    "    tf.initialize_all_variables().run()\n",
    "\n",
    "    for step in range(num_steps):\n",
    "\n",
    "      # define the feed dictionary for the training run - this happens every step\n",
    "      batch_data, batch_labels = get_next_batch(step, batch_size, train_dataset, train_labels)\n",
    "      train_feed_dict = {input_data : batch_data, labels : batch_labels, keep_prob : dropout}\n",
    "\n",
    "      # sometimes we'll calculate test accuracy and save to tensorboard\n",
    "      if step % (num_steps // tb_printouts) == 0 :\n",
    "        _, train_loss, train_acc, train_summary = sess.run([train_step, loss, accuracy, merged], feed_dict=train_feed_dict)\n",
    "        test_loss,      test_acc,  test_summary = sess.run([            loss, accuracy, merged], feed_dict=test_feed_dict)\n",
    "        train_writer.add_summary(train_summary, step)\n",
    "        test_writer.add_summary(test_summary, step)\n",
    "\n",
    "      # sometime we'll just calculate test accuracy for the homemade plotter\n",
    "      elif step % (num_steps // log_printouts) == 0 :\n",
    "        _, train_loss, train_acc = sess.run([train_step, loss, accuracy], feed_dict=train_feed_dict)\n",
    "        test_loss, test_acc      = sess.run([            loss, accuracy], feed_dict=test_feed_dict)\n",
    "\n",
    "      # and otherwise, we just train the network\n",
    "      else:\n",
    "        sess.run([train_step], feed_dict=train_feed_dict)\n",
    "\n",
    "      if step % (num_steps // log_printouts) == 0 :\n",
    "        learning_log = np.append(learning_log, [[step, train_loss, test_loss, train_acc, test_acc]], axis=0)\n",
    "\n",
    "      if step % (num_steps // progress_dots) == 0 : print(\".\",end=\"\")\n",
    "\n",
    "    # Finally, close the writers,  calculate accuracy on the test data:\n",
    "    train_writer.close()\n",
    "    test_writer.close()\n",
    "    test_accuracy, test_logits, test_losses  = sess.run([accuracy, logits_list, loss_list], feed_dict=test_feed_dict)\n",
    "    \n",
    "    run_time = timer() - start\n",
    " \n",
    "  return (test_logits, test_losses, learning_log, run_time, test_accuracy)  # for debugging\n",
    "#  return learning_log, time_taken, test_acc"
   ]
  },
  {
   "cell_type": "markdown",
   "metadata": {},
   "source": [
    "**3.4 Run the model with different hyperparameters**\n",
    "\n",
    "First, set up any helper functions for the logging, and load the saved results log and set."
   ]
  },
  {
   "cell_type": "code",
   "execution_count": null,
   "metadata": {
    "collapsed": false
   },
   "outputs": [],
   "source": [
    "def run_text_long(params, run_counter, test_accuracy, run_time):\n",
    "  run_description = (\"{:>5d}x{:>2d}, {:>23}, {:>5}, {:>4} rt,{:>4} dcy,{:>4} st, \"\n",
    "                     \"W_d {:>4}, mmtm {:>4}, d_o {:>3.1f}\".format(*params))\n",
    "  text  = (\"{:>2d}: {} - {:>4.1f}% acc in {:>4.0f}m\".format(run_counter, run_description, test_accuracy, run_time/60))\n",
    "  return text\n",
    "\n",
    "def run_text_short(results):\n",
    "  i, params, run_text, learning_log, test_accuracy, run_time = results\n",
    "  text = (\"{:>2d}: {:<20} - {:>4.1f}% acc in {:>4.0f}m\".format(\n",
    "                i, params[-1], test_accuracy, run_time/60))\n",
    "  return text\n",
    "\n",
    "def init_results_log(filename):\n",
    "  if os.path.exists(filename):\n",
    "    with open(filename, 'rb') as f:\n",
    "      results_log = pickle.load(f)\n",
    "    run_counter = len(results_log) \n",
    "    print('Results log loaded from {}'.format(filename))\n",
    "  else:\n",
    "    results_log, run_counter = [],0\n",
    "    print('Results log initialised')\n",
    "  return results_log, run_counter\n",
    "\n",
    "if 'results_log' not in locals():\n",
    "  results_log, run_counter = init_results_log(\"results.pickle\")"
   ]
  },
  {
   "cell_type": "markdown",
   "metadata": {},
   "source": [
    "Now specify a list of hyperparameter combinations and run the model on those, logging performance each time."
   ]
  },
  {
   "cell_type": "code",
   "execution_count": 80,
   "metadata": {
    "cellView": "both",
    "colab": {
     "autoexec": {
      "startup": false,
      "wait_interval": 0
     },
     "output_extras": [
      {
       "item_id": 37
      }
     ]
    },
    "colab_type": "code",
    "collapsed": false,
    "executionInfo": {
     "elapsed": 63292,
     "status": "ok",
     "timestamp": 1446658966251,
     "user": {
      "color": "",
      "displayName": "",
      "isAnonymous": false,
      "isMe": true,
      "permissionId": "",
      "photoUrl": "",
      "sessionId": "0",
      "userId": ""
     },
     "user_tz": 480
    },
    "id": "noKFb2UovVFR",
    "outputId": "28941338-2ef9-4088-8bd1-44295661e628"
   },
   "outputs": [
    {
     "name": "stdout",
     "output_type": "stream",
     "text": [
      ".....................................................................................................\n",
      " 5:  1001x128, [(5, 16, 2, 2, 2), (5, 32, 2, 2, 2)], [1024], 0.05 rt, 1.0 dcy,   1 st, W_d  0.0, mmtm None, d_o 1.0 -  0.0% acc in 2039s\n"
     ]
    }
   ],
   "source": [
    "######################################### Set the hyperparameters to test #########################################\n",
    "# conv_layer = patch_size, depth, stride, mp_kernel, mp_stride\n",
    "# 0 steps, 1 batch, 2 convolution_layers,       3 fc_layers, 4 learn_rate, 5 ldecay_rate, 6 ldecay_steps, \n",
    "#   7 weight_decay, 8 learner, 9 dropout, 10 Nickname\n",
    "param_list = [\\\n",
    "(   1001,   128,   [(5,16,2,2,2), (5,32,2,2,2)],  [1024],         0.05,           1.0,              1,   \\\n",
    "               0.0,    None,       1.0, \"1000 runs with logits for debugging\")]\n",
    "# (  501,  32,        [(5,16,2,1,1)],     2, [64],   0.05,     1.0,        1,     0.1,   None,  1.0, \"First digit, 500 goes\")]\n",
    "# ( 80001,  16,       [(5,16,1,2,2)],     2, [64],   0.05,     1.0,       1,     0.1, \"Adam\",  1.0, \"Adam 80k 2_layer MP No DO\"),\n",
    "# ( 80001,  16,       [(5,16,1,2,2)],     2, [64],   0.05,     1.0,       1,     0.1, \"Adam\",  0.7, \"Adam 80k 2_layer MP DO 0.7\")]\n",
    "\n",
    "log_printouts =   100        # How many times to write validation stats to the log file \n",
    "tb_printouts  =    20        # How many times to write train & validation stats to tensorboard\n",
    "tb_show_all   = False        # Whether to log stats on the weights and biases\n",
    "progress_dots =   100        # The number of progress dots to print per line\n",
    "log_path      = \"tb/test/\"   # Where to save the tensorboard logs\n",
    "data          = (train_dataset, train_labels, test_dataset, test_labels)\n",
    "\n",
    "##### Run the model and log the results #####\n",
    "for params in param_list:\n",
    "  log_dir    = log_path + str(run_counter) + \"_\" + params[-1]\n",
    "  log_params = (log_dir, log_printouts, tb_printouts, tb_show_all, progress_dots)\n",
    "\n",
    "  test_logits, test_losses, learning_log, run_time, test_accuracy = define_and_run_model(data, params, log_params) # debug\n",
    "#  learning_log, run_time, test_accuracy = define_and_run_model(data, params, log_params)\n",
    "  \n",
    "  run_text = run_text_long(params, run_counter, test_accuracy, run_time)\n",
    "  print(\"\\n\"+run_text)\n",
    "  results_log.append((run_counter, params, run_text, learning_log, test_accuracy, run_time))\n",
    "  run_counter += 1"
   ]
  },
  {
   "cell_type": "code",
   "execution_count": 75,
   "metadata": {
    "collapsed": false
   },
   "outputs": [
    {
     "name": "stdout",
     "output_type": "stream",
     "text": [
      "Sample: 11121\n",
      "Logits: \n",
      "[[-0.1  0.5  0.1  0.2 -0.1  0.2  0.1 -0.6  0.  -0.1 -0.2]\n",
      " [-0.1  0.2  0.   0.1  0.1 -0.7  0.1  0.1  0.   0.1  0. ]\n",
      " [ 1.3 -0.   0.  -0.1  0.1 -0.4 -0.2 -0.1 -0.2 -0.  -0.3]\n",
      " [ 1.7 -0.7 -0.1 -0.1 -0.  -0.  -0.2 -0.1 -0.3 -0.1 -0.1]\n",
      " [ 2.  -0.1 -0.  -0.  -0.1 -1.4 -0.1 -0.  -0.  -0.  -0.1]]\n",
      "Predictions: [1 1 0 0 0]\n",
      "Labels:      [4 1 0 0 0]\n",
      "Accuracy:    False\n",
      "Losses:      [ 2.5  2.2  1.2  0.9  0.8]\n"
     ]
    }
   ],
   "source": [
    "def print_sample_logit(sample):\n",
    "  np.set_printoptions(suppress=True, precision=1, linewidth=100)\n",
    "  sample_logits = np.array([logits[sample] for logits in test_logits])\n",
    "  predictions   = np.argmax(sample_logits, axis=1)\n",
    "  labels        = test_labels[sample,:]\n",
    "  accuracy      = np.all(predictions == labels)\n",
    "  losses        = np.array([losses[sample] for losses in test_losses])\n",
    "  print('Sample: {}'.format(sample))\n",
    "  print('Logits: \\n{}'.format(sample_logits))\n",
    "  print('Predictions: {}'.format(predictions))\n",
    "  print('Labels:      {}'.format(labels))\n",
    "  print('Accuracy:    {}'.format(accuracy))\n",
    "  print('Losses:      {}'.format(losses))\n",
    "  \n",
    "print_sample_logit(random.randrange(len(test_labels)))\n"
   ]
  },
  {
   "cell_type": "code",
   "execution_count": 58,
   "metadata": {
    "collapsed": false
   },
   "outputs": [
    {
     "name": "stdout",
     "output_type": "stream",
     "text": [
      "Starting TensorBoard 28 on port 8889\n",
      "(You can navigate to http://172.17.0.2:8889)\n",
      "^CTraceback (most recent call last):\n",
      "  File \"/usr/local/bin/tensorboard\", line 11, in <module>\n",
      "    sys.exit(main())\n",
      "  File \"/usr/local/lib/python2.7/dist-packages/tensorflow/tensorboard/tensorboard.py\", line 151, in main\n",
      "    tb_server.serve_forever()\n",
      "  File \"/usr/lib/python2.7/SocketServer.py\", line 236, in serve_forever\n",
      "    poll_interval)\n",
      "  File \"/usr/lib/python2.7/SocketServer.py\", line 155, in _eintr_retry\n",
      "    return func(*args)\n",
      "KeyboardInterrupt\n",
      "\n"
     ]
    }
   ],
   "source": [
    "# !sudo netstat -ap | grep :8889\n",
    "# !kill 1014\n",
    "!tensorboard --port 8889 --logdir tb/test/"
   ]
  },
  {
   "cell_type": "code",
   "execution_count": 81,
   "metadata": {
    "collapsed": false
   },
   "outputs": [
    {
     "data": {
      "image/png": "[encoded data removed]",
      "text/plain": [
       "<matplotlib.figure.Figure at 0x7f01fc71ec90>"
      ]
     },
     "metadata": {},
     "output_type": "display_data"
    }
   ],
   "source": [
    "def smooth(x_input, y_input, steps):\n",
    "  x_output, y_output = [],[]\n",
    "  counter = 0\n",
    "  for i in range(len(x_input)//steps):\n",
    "    x_output.append(sum(x_input[counter:counter+steps]/steps))\n",
    "    y_output.append(sum(y_input[counter:counter+steps]/steps))\n",
    "    counter += steps\n",
    "  return x_output, y_output\n",
    "    \n",
    "def plot_learning_chart(results_data, metric, smoothing, xlim, ylim, label_flag):\n",
    "  metric_text = ['Step', 'Training loss', 'Test loss', 'Training accuracy', 'Test accuracy'][metric]\n",
    "  fig, ax = plt.subplots(figsize=(15,10))\n",
    "  fontP = FontProperties()\n",
    "  fontP.set_size('small')\n",
    "  for results in results_data: \n",
    "    i, params, long_text, learning_log, test_accuracy, run_time = results\n",
    "    label = run_text_short(results) if params[-1] is not None and label_flag != \"Full\" else long_text \n",
    "    ax.plot(*smooth(learning_log[:,0], learning_log[:,metric],smoothing), label=label ,linewidth=2) \n",
    "  plt.title(metric_text+' as the model learns')\n",
    "  plt.xlabel(\"Number of mini-batches processed\")\n",
    "  plt.ylabel(metric_text)\n",
    "  if ylim is not None: plt.ylim(*ylim)\n",
    "  if xlim is not None: plt.xlim(*xlim)\n",
    "  ax.legend(loc=4,prop=fontP)\n",
    "  plt.show()\n",
    "\n",
    "plot_learning_chart(results_log, metric=1, smoothing=1, xlim=None, ylim=(0,10), label_flag = \"\")\n",
    "# plot_learning_chart([results_log[n] for n in [51,52]], smoothing=1, xlim=None, ylim=(80,89), label_flag = \"\")\n",
    "# to get the top 10 - \n",
    "# plot_learning_chart(sorted(results_log, key = lambda x: x[4])[-10:], smoothing=40, xlim=None, ylim=(75,85), label_flag = \"Full\")\n"
   ]
  },
  {
   "cell_type": "code",
   "execution_count": 82,
   "metadata": {
    "collapsed": false,
    "scrolled": true
   },
   "outputs": [
    {
     "name": "stdout",
     "output_type": "stream",
     "text": [
      " 0:     6x 8, [(5, 16, 2, 1, 1)]x2,  [64], 0.05 rt, 1.0 dcy,   1 st, W_d  0.1, mmtm None, d_o 1.0 -  0.0% acc in  111s\n",
      " 1:   501x128, [(5, 32, 2, 2, 2)]x2, [512], 0.05 rt, 1.0 dcy,   1 st, W_d  0.1, mmtm None, d_o 1.0 -  0.0% acc in 2482s\n",
      " 2: 10001x128, [(5, 16, 2, 2, 2), (5, 32, 2, 2, 2)], [1024], 0.05 rt, 1.0 dcy,   1 st, W_d  0.0, mmtm Adam, d_o 1.0 -  0.0% acc in 5165s\n",
      " 3:     6x64, [(5, 16, 2, 2, 2), (5, 32, 2, 2, 2)], [1024], 0.05 rt, 1.0 dcy,   1 st, W_d  0.0, mmtm None, d_o 1.0 -  0.0% acc in 5165s\n",
      " 4:     6x64, [(5, 16, 2, 2, 2), (5, 32, 2, 2, 2)], [1024], 0.05 rt, 1.0 dcy,   1 st, W_d  0.0, mmtm None, d_o 1.0 -  0.0% acc in   75s\n",
      " 5:  1001x128, [(5, 16, 2, 2, 2), (5, 32, 2, 2, 2)], [1024], 0.05 rt, 1.0 dcy,   1 st, W_d  0.0, mmtm None, d_o 1.0 -  0.0% acc in 2039s\n"
     ]
    }
   ],
   "source": [
    "### Print the results and if required, reshuffle to the latest structure ###\n",
    "for n,results in enumerate(results_log): \n",
    "  i, params, full_text, learning_log, test_accuracy, run_time = results\n",
    "  print(full_text)\n",
    "#   print(learning_log[:3])\n",
    "#   num_steps, batch_size, conv_layers, fully_connected_layers, \\\n",
    "#     initial_rate, learn_decay_rate, learn_decay_steps, weight_decay, momentum, dropout, nickname = params\n",
    "#   params = (num_steps, batch_size, conv_layers, fully_connected_layers, \\\n",
    "#     initial_rate, learn_decay_rate, learn_decay_steps, weight_decay, momentum, dropout, nickname)\n",
    "  \n",
    "#  results_log[i]    = (i, params, full_text, learning_log, test_accuracy, run_time)"
   ]
  },
  {
   "cell_type": "code",
   "execution_count": 21,
   "metadata": {
    "collapsed": false
   },
   "outputs": [
    {
     "name": "stdout",
     "output_type": "stream",
     "text": [
      "Done - 08:29\n"
     ]
    }
   ],
   "source": [
    "# save the results for later use\n",
    "\n",
    "pickle_file = 'results.pickle'\n",
    "os.environ['TZ'] = 'Europe/Zurich'\n",
    "time.tzset()\n",
    "\n",
    "try:\n",
    "  f = open(pickle_file, 'wb')\n",
    "  pickle.dump(results_log, f, pickle.HIGHEST_PROTOCOL)\n",
    "  print(\"Done -\",strftime(\"%H:%M\"))\n",
    "  f.close()\n",
    "except Exception as e:\n",
    "  print('Unable to save data to', pickle_file, ':', e)\n",
    "  raise"
   ]
  },
  {
   "cell_type": "code",
   "execution_count": 48,
   "metadata": {
    "collapsed": false
   },
   "outputs": [
    {
     "name": "stdout",
     "output_type": "stream",
     "text": [
      "3\n",
      "[0, 1, 2, 3, 4, 5, 6, 7, 8, 9]\n",
      "9\n"
     ]
    }
   ],
   "source": [
    "print(3)\n",
    "a=3\n",
    "print([a for a in range(10)])\n",
    "print(a)"
   ]
  },
  {
   "cell_type": "code",
   "execution_count": null,
   "metadata": {
    "collapsed": true
   },
   "outputs": [],
   "source": []
  }
 ],
 "metadata": {
  "colab": {
   "default_view": {},
   "name": "4_convolutions.ipynb",
   "provenance": [],
   "version": "0.3.2",
   "views": {}
  },
  "kernelspec": {
   "display_name": "Python 2",
   "language": "python",
   "name": "python2"
  },
  "language_info": {
   "codemirror_mode": {
    "name": "ipython",
    "version": 2
   },
   "file_extension": ".py",
   "mimetype": "text/x-python",
   "name": "python",
   "nbconvert_exporter": "python",
   "pygments_lexer": "ipython2",
   "version": "2.7.6"
  }
 },
 "nbformat": 4,
 "nbformat_minor": 0
}
